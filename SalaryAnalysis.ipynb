{
 "cells": [
  {
   "cell_type": "markdown",
   "metadata": {},
   "source": [
    "# Analysis of Salaries Across UNC System Schools\n",
    "As a student who is majoring in both Computer Science and Studio Art, I have noticed differences in the way the departments are funded. I will analyze the disparity in university funding across departments primarily sourcing data from the [UNC System's salary database](https://uncdm.northcarolina.edu/salaries/index.php). \n",
    "\n",
    "This project will investigate where University funding comes from and ways it is distributed.\n",
    "\n",
    "According to [The Well](https://www.unc.edu/discover/carolinas-money-where-we-get-it-how-we-spend-it/#:~:text=The%20University%20gets%20its%20funding,housing%2C%20dining%20and%20other%20services.) \"the University gets its funding from a variety of places: research grants, tuition and fees, state appropriations, gifts, investment returns and income generated through housing, dining and other services.\" UNC spends over $3 billion in a year, and these various funding sources are used to pay salaries across departments within the university."
   ]
  },
  {
   "cell_type": "markdown",
   "metadata": {},
   "source": [
    "### [Average Salary Across UNC System Schools](https://public.tableau.com/views/TotalSalaryExpenditurebySchool/totalsalarybyschool?:language=en-US&publish=yes&:sid=&:display_count=n&:origin=viz_share_link)\n",
    "\n",
    "This graph shows that UNC spend the most money on salaries, spending nearly $1.5 billion out of a total $4.2 billion accross all UNC System Schools.\n",
    "\n",
    "<img src=\"images/TotalSalarySystem.png\" alt=\"TotalSalarySystem\" width=\"700\"/>"
   ]
  },
  {
   "cell_type": "markdown",
   "metadata": {},
   "source": [
    "### [Avg Salary by System](https://public.tableau.com/views/AverageSalarybySchool/avgsalarybyschool?:language=en-US&:sid=&:display_count=n&:origin=viz_share_link)\n",
    "\n",
    "Even when averaging all salaries, UNC still spends more money per employee than other universities in the UNC system.\n",
    "\n",
    "<img src=\"images/AvgSalarySystem.png\" alt=\"AvgSalarySystem\" width=\"700\"/>"
   ]
  },
  {
   "cell_type": "markdown",
   "metadata": {},
   "source": [
    "Let's take a closer look at how UNCCH's salaries are distributed.\n",
    "\n",
    "### [Total Salary by Department at UNCCH](https://public.tableau.com/views/TotalSalaryExpenditurebyDepartmentatUNCCH/TotalSalaryExpenditure?:language=en-US&:sid=&:display_count=n&:origin=viz_share_link)\n",
    "\n",
    "<img src=\"images/TotalSalaryUNCCH.png\" width=\"800\"/>\n"
   ]
  },
  {
   "cell_type": "markdown",
   "metadata": {},
   "source": [
    "### [Average Salary By Department](https://public.tableau.com/views/UNCCHSalaryData/Sheet1?:language=en-US&:sid=&:display_count=n&:origin=viz_share_link)\n",
    "This graph showcases the disparity in pay accross varying departments at UNC.\n",
    "\n",
    "<img src=\"images/SalaryByDept.png\" alt=\"SalaryByDept\" width=\"700\"/>"
   ]
  },
  {
   "cell_type": "markdown",
   "metadata": {},
   "source": [
    "### [Total Salary Expenditure for Computer Science and Art Departments](https://public.tableau.com/views/TotalSalaryExpenditureComputerScienceArtDepartments/Sheet3?:language=en-US&publish=yes&:sid=&:display_count=n&:origin=viz_share_link)\n",
    "\n",
    "<img src=\"images/TotalCSArt.png\" alt=\"TotalCSArt\" width=\"700\"/>"
   ]
  },
  {
   "cell_type": "markdown",
   "metadata": {},
   "source": [
    "### [Maximum Salary by Department at UNCCH](https://public.tableau.com/views/MaximumSalaryforDepartmentsatUNCCH/AvgSalaryExpenditure?:language=en-US&publish=yes&:sid=&:display_count=n&:origin=viz_share_link)\n",
    "\n",
    "<img src=\"images/MaxSalaryByDept.png\" alt=\"MaxSalaryByDept\" width=\"700\"/>"
   ]
  },
  {
   "cell_type": "markdown",
   "metadata": {},
   "source": [
    "### [Maximum Salary by UNC System Schools](https://public.tableau.com/views/LargestSalaryforUNCSystemSchools/maxsalarybyschool?:language=en-US&publish=yes&:sid=&:display_count=n&:origin=viz_share_link)\n",
    "\n",
    "<img src=\"images/MaxSalarySystem.png\" alt=\"MaxSalarySystem\" width=\"800\"/>"
   ]
  }
 ],
 "metadata": {
  "kernelspec": {
   "display_name": "Python 3",
   "language": "python",
   "name": "python3"
  },
  "language_info": {
   "codemirror_mode": {
    "name": "ipython",
    "version": 3
   },
   "file_extension": ".py",
   "mimetype": "text/x-python",
   "name": "python",
   "nbconvert_exporter": "python",
   "pygments_lexer": "ipython3",
   "version": "3.9.12"
  }
 },
 "nbformat": 4,
 "nbformat_minor": 2
}
