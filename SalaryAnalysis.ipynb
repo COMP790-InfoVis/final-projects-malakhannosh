{
 "cells": [
  {
   "cell_type": "markdown",
   "metadata": {},
   "source": [
    "# Analysis of Salaries Across UNC System Schools\n",
    "As a student who is majoring in both Computer Science and Studio Art, I have noticed differences in the way the departments are funded. I will analyze the disparity in university funding across departments primarily sourcing data from the [UNC System's salary database](https://uncdm.northcarolina.edu/salaries/index.php). \n",
    "\n",
    "This project will investigate where University funding comes from and ways it is distributed.\n",
    "\n",
    "According to [The Well](https://www.unc.edu/discover/carolinas-money-where-we-get-it-how-we-spend-it/#:~:text=The%20University%20gets%20its%20funding,housing%2C%20dining%20and%20other%20services.) \"the University gets its funding from a variety of places: research grants, tuition and fees, state appropriations, gifts, investment returns and income generated through housing, dining and other services.\" UNC spends over $3 billion in a year, and these various funding sources are used to pay salaries across departments within the university."
   ]
  },
  {
   "cell_type": "markdown",
   "metadata": {},
   "source": [
    "### Average Salary Across UNC System Schools\n",
    "This graph, [accessible here](https://public.tableau.com/app/profile/malak.hannosh/viz/TotalSalaryExpenditurebySchool/totalsalarybyschool?publish=yes), shows that UNC spend the most money on salaries, spending $1.5 billion out of a total $4.2 billion accross all UNC System Schools.\n",
    "\n",
    "<img src=\"images/TotalSalarySystem.png\" alt=\"TotalSalarySystem\" width=\"700\"/>"
   ]
  },
  {
   "cell_type": "markdown",
   "metadata": {},
   "source": [
    "### Avg Salary by System\n",
    "This graph, [accessible here](https://public.tableau.com/app/profile/malak.hannosh/viz/AverageSalarybySchool/avgsalarybyschool),\n",
    "\n",
    "<img src=\"images/AvgSalarySystem.png\" alt=\"AvgSalarySystem\" width=\"700\"/>"
   ]
  },
  {
   "cell_type": "markdown",
   "metadata": {},
   "source": [
    "### Average Salary By Department\n",
    "This graph, [accessible here](https://public.tableau.com/app/profile/malak.hannosh/viz/UNCCHSalaryData/Sheet1), showcases the disparity in pay accross varying departments at UNC.\n",
    "\n",
    "<img src=\"images/SalaryByDept.png\" alt=\"SalaryByDept\" width=\"700\"/>"
   ]
  }
 ],
 "metadata": {
  "kernelspec": {
   "display_name": "Python 3",
   "language": "python",
   "name": "python3"
  },
  "language_info": {
   "codemirror_mode": {
    "name": "ipython",
    "version": 3
   },
   "file_extension": ".py",
   "mimetype": "text/x-python",
   "name": "python",
   "nbconvert_exporter": "python",
   "pygments_lexer": "ipython3",
   "version": "3.9.12"
  }
 },
 "nbformat": 4,
 "nbformat_minor": 2
}
